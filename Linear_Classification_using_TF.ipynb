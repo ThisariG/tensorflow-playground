{
  "nbformat": 4,
  "nbformat_minor": 0,
  "metadata": {
    "colab": {
      "provenance": [],
      "authorship_tag": "ABX9TyONo3ZUtN12xlEHKmV40gBB",
      "include_colab_link": true
    },
    "kernelspec": {
      "name": "python3",
      "display_name": "Python 3"
    },
    "language_info": {
      "name": "python"
    }
  },
  "cells": [
    {
      "cell_type": "markdown",
      "metadata": {
        "id": "view-in-github",
        "colab_type": "text"
      },
      "source": [
        "<a href=\"https://colab.research.google.com/github/ThisariG/tensorflow-playground/blob/main/Linear_Classification_using_TF.ipynb\" target=\"_parent\"><img src=\"https://colab.research.google.com/assets/colab-badge.svg\" alt=\"Open In Colab\"/></a>"
      ]
    },
    {
      "cell_type": "code",
      "execution_count": 1,
      "metadata": {
        "id": "8Hw_p3zurZz7"
      },
      "outputs": [],
      "source": [
        "#importing libraries\n",
        "\n",
        "import tensorflow as tf\n",
        "from sklearn.datasets import load_breast_cancer\n",
        "from sklearn.model_selection import train_test_split\n",
        "from sklearn.preprocessing import StandardScaler\n",
        "import matplotlib.pyplot as plt"
      ]
    },
    {
      "cell_type": "code",
      "source": [
        "# load data\n",
        "data = load_breast_cancer()"
      ],
      "metadata": {
        "id": "cw3K2UF7nnb5"
      },
      "execution_count": 2,
      "outputs": []
    },
    {
      "cell_type": "code",
      "source": [
        "cancer_data = data.data\n",
        "cancer_data.shape"
      ],
      "metadata": {
        "colab": {
          "base_uri": "https://localhost:8080/"
        },
        "id": "4YkE_zetoXOF",
        "outputId": "73584f48-9178-40a1-87a1-e1e632a491a4"
      },
      "execution_count": 3,
      "outputs": [
        {
          "output_type": "execute_result",
          "data": {
            "text/plain": [
              "(569, 30)"
            ]
          },
          "metadata": {},
          "execution_count": 3
        }
      ]
    },
    {
      "cell_type": "code",
      "source": [
        "# features of the dataset\n",
        "data.feature_names"
      ],
      "metadata": {
        "colab": {
          "base_uri": "https://localhost:8080/"
        },
        "id": "Neovhp-royx4",
        "outputId": "04ceeafd-74e8-4962-e37f-40649ec840a6"
      },
      "execution_count": 4,
      "outputs": [
        {
          "output_type": "execute_result",
          "data": {
            "text/plain": [
              "array(['mean radius', 'mean texture', 'mean perimeter', 'mean area',\n",
              "       'mean smoothness', 'mean compactness', 'mean concavity',\n",
              "       'mean concave points', 'mean symmetry', 'mean fractal dimension',\n",
              "       'radius error', 'texture error', 'perimeter error', 'area error',\n",
              "       'smoothness error', 'compactness error', 'concavity error',\n",
              "       'concave points error', 'symmetry error',\n",
              "       'fractal dimension error', 'worst radius', 'worst texture',\n",
              "       'worst perimeter', 'worst area', 'worst smoothness',\n",
              "       'worst compactness', 'worst concavity', 'worst concave points',\n",
              "       'worst symmetry', 'worst fractal dimension'], dtype='<U23')"
            ]
          },
          "metadata": {},
          "execution_count": 4
        }
      ]
    },
    {
      "cell_type": "code",
      "source": [
        "target = data.target\n",
        "target.shape"
      ],
      "metadata": {
        "colab": {
          "base_uri": "https://localhost:8080/"
        },
        "id": "2RR0oa9LofVe",
        "outputId": "9b5683d5-a606-4475-9307-b4d7911fc566"
      },
      "execution_count": 5,
      "outputs": [
        {
          "output_type": "execute_result",
          "data": {
            "text/plain": [
              "(569,)"
            ]
          },
          "metadata": {},
          "execution_count": 5
        }
      ]
    },
    {
      "cell_type": "code",
      "source": [
        "# classification classes \n",
        "data.target_names"
      ],
      "metadata": {
        "colab": {
          "base_uri": "https://localhost:8080/"
        },
        "id": "MPQQKmjapDWk",
        "outputId": "a39fdea8-1cc9-475a-83a2-cf8d43c83518"
      },
      "execution_count": 6,
      "outputs": [
        {
          "output_type": "execute_result",
          "data": {
            "text/plain": [
              "array(['malignant', 'benign'], dtype='<U9')"
            ]
          },
          "metadata": {},
          "execution_count": 6
        }
      ]
    },
    {
      "cell_type": "code",
      "source": [
        "# splitting training and test data\n",
        "x_train, x_test, y_train, y_test = train_test_split(cancer_data, target, test_size=0.3)\n",
        "N, D = x_train.shape # no of data points, no of features\n"
      ],
      "metadata": {
        "id": "oIr3QT26plel"
      },
      "execution_count": 7,
      "outputs": []
    },
    {
      "cell_type": "code",
      "source": [
        "# scaling the data\n",
        "scaler = StandardScaler()\n",
        "x_train = scaler.fit_transform(x_train)\n",
        "x_test = scaler.transform(x_test)"
      ],
      "metadata": {
        "id": "wCICRs9hqr1G"
      },
      "execution_count": 8,
      "outputs": []
    },
    {
      "cell_type": "code",
      "source": [
        "# building the model\n",
        "model = tf.keras.models.Sequential(\n",
        "    [\n",
        "        tf.keras.layers.Input(shape=(D,)),\n",
        "        tf.keras.layers.Dense(1, activation='sigmoid')\n",
        "    ]\n",
        ")\n",
        "\n",
        "model.compile(\n",
        "    optimizer='adam',\n",
        "    loss='binary_crossentropy',\n",
        "    metrics=['accuracy']\n",
        ")"
      ],
      "metadata": {
        "id": "PL75VYO5rR8G"
      },
      "execution_count": 9,
      "outputs": []
    },
    {
      "cell_type": "code",
      "source": [
        "# train the model\n",
        "# fit returns a History object and the history attribute is a record of training loss values and metrics values at successive epochs, as well as validation loss values and validation metrics values\n",
        "res = model.fit(\n",
        "    x_train, \n",
        "    y_train,\n",
        "     validation_data = (x_test, y_test), \n",
        "     epochs=100\n",
        "     )"
      ],
      "metadata": {
        "colab": {
          "base_uri": "https://localhost:8080/"
        },
        "id": "3VPpYbeksFKe",
        "outputId": "daf3be54-e877-4ab1-9375-e7897cb06fa9"
      },
      "execution_count": 10,
      "outputs": [
        {
          "output_type": "stream",
          "name": "stdout",
          "text": [
            "Epoch 1/100\n",
            "13/13 [==============================] - 1s 22ms/step - loss: 0.7923 - accuracy: 0.5477 - val_loss: 0.6920 - val_accuracy: 0.6257\n",
            "Epoch 2/100\n",
            "13/13 [==============================] - 0s 6ms/step - loss: 0.7076 - accuracy: 0.6156 - val_loss: 0.6167 - val_accuracy: 0.6842\n",
            "Epoch 3/100\n",
            "13/13 [==============================] - 0s 5ms/step - loss: 0.6342 - accuracy: 0.6709 - val_loss: 0.5531 - val_accuracy: 0.7368\n",
            "Epoch 4/100\n",
            "13/13 [==============================] - 0s 6ms/step - loss: 0.5726 - accuracy: 0.7186 - val_loss: 0.4988 - val_accuracy: 0.8012\n",
            "Epoch 5/100\n",
            "13/13 [==============================] - 0s 5ms/step - loss: 0.5178 - accuracy: 0.7613 - val_loss: 0.4546 - val_accuracy: 0.8246\n",
            "Epoch 6/100\n",
            "13/13 [==============================] - 0s 6ms/step - loss: 0.4746 - accuracy: 0.7889 - val_loss: 0.4154 - val_accuracy: 0.8363\n",
            "Epoch 7/100\n",
            "13/13 [==============================] - 0s 5ms/step - loss: 0.4349 - accuracy: 0.8317 - val_loss: 0.3839 - val_accuracy: 0.8596\n",
            "Epoch 8/100\n",
            "13/13 [==============================] - 0s 5ms/step - loss: 0.4032 - accuracy: 0.8467 - val_loss: 0.3557 - val_accuracy: 0.8713\n",
            "Epoch 9/100\n",
            "13/13 [==============================] - 0s 6ms/step - loss: 0.3749 - accuracy: 0.8568 - val_loss: 0.3317 - val_accuracy: 0.8830\n",
            "Epoch 10/100\n",
            "13/13 [==============================] - 0s 5ms/step - loss: 0.3506 - accuracy: 0.8744 - val_loss: 0.3104 - val_accuracy: 0.8947\n",
            "Epoch 11/100\n",
            "13/13 [==============================] - 0s 6ms/step - loss: 0.3291 - accuracy: 0.8819 - val_loss: 0.2927 - val_accuracy: 0.9123\n",
            "Epoch 12/100\n",
            "13/13 [==============================] - 0s 7ms/step - loss: 0.3113 - accuracy: 0.8869 - val_loss: 0.2771 - val_accuracy: 0.9181\n",
            "Epoch 13/100\n",
            "13/13 [==============================] - 0s 5ms/step - loss: 0.2950 - accuracy: 0.9045 - val_loss: 0.2634 - val_accuracy: 0.9181\n",
            "Epoch 14/100\n",
            "13/13 [==============================] - 0s 7ms/step - loss: 0.2810 - accuracy: 0.9171 - val_loss: 0.2514 - val_accuracy: 0.9298\n",
            "Epoch 15/100\n",
            "13/13 [==============================] - 0s 6ms/step - loss: 0.2683 - accuracy: 0.9347 - val_loss: 0.2407 - val_accuracy: 0.9415\n",
            "Epoch 16/100\n",
            "13/13 [==============================] - 0s 5ms/step - loss: 0.2570 - accuracy: 0.9397 - val_loss: 0.2313 - val_accuracy: 0.9415\n",
            "Epoch 17/100\n",
            "13/13 [==============================] - 0s 6ms/step - loss: 0.2471 - accuracy: 0.9397 - val_loss: 0.2227 - val_accuracy: 0.9474\n",
            "Epoch 18/100\n",
            "13/13 [==============================] - 0s 5ms/step - loss: 0.2379 - accuracy: 0.9397 - val_loss: 0.2149 - val_accuracy: 0.9532\n",
            "Epoch 19/100\n",
            "13/13 [==============================] - 0s 5ms/step - loss: 0.2296 - accuracy: 0.9422 - val_loss: 0.2076 - val_accuracy: 0.9532\n",
            "Epoch 20/100\n",
            "13/13 [==============================] - 0s 5ms/step - loss: 0.2219 - accuracy: 0.9447 - val_loss: 0.2010 - val_accuracy: 0.9532\n",
            "Epoch 21/100\n",
            "13/13 [==============================] - 0s 12ms/step - loss: 0.2149 - accuracy: 0.9447 - val_loss: 0.1951 - val_accuracy: 0.9532\n",
            "Epoch 22/100\n",
            "13/13 [==============================] - 0s 12ms/step - loss: 0.2085 - accuracy: 0.9447 - val_loss: 0.1895 - val_accuracy: 0.9591\n",
            "Epoch 23/100\n",
            "13/13 [==============================] - 0s 12ms/step - loss: 0.2025 - accuracy: 0.9523 - val_loss: 0.1845 - val_accuracy: 0.9591\n",
            "Epoch 24/100\n",
            "13/13 [==============================] - 0s 10ms/step - loss: 0.1972 - accuracy: 0.9523 - val_loss: 0.1797 - val_accuracy: 0.9591\n",
            "Epoch 25/100\n",
            "13/13 [==============================] - 0s 11ms/step - loss: 0.1920 - accuracy: 0.9548 - val_loss: 0.1753 - val_accuracy: 0.9591\n",
            "Epoch 26/100\n",
            "13/13 [==============================] - 0s 14ms/step - loss: 0.1873 - accuracy: 0.9573 - val_loss: 0.1711 - val_accuracy: 0.9591\n",
            "Epoch 27/100\n",
            "13/13 [==============================] - 0s 10ms/step - loss: 0.1829 - accuracy: 0.9598 - val_loss: 0.1673 - val_accuracy: 0.9591\n",
            "Epoch 28/100\n",
            "13/13 [==============================] - 0s 13ms/step - loss: 0.1789 - accuracy: 0.9598 - val_loss: 0.1634 - val_accuracy: 0.9591\n",
            "Epoch 29/100\n",
            "13/13 [==============================] - 0s 8ms/step - loss: 0.1749 - accuracy: 0.9648 - val_loss: 0.1598 - val_accuracy: 0.9591\n",
            "Epoch 30/100\n",
            "13/13 [==============================] - 0s 11ms/step - loss: 0.1714 - accuracy: 0.9673 - val_loss: 0.1566 - val_accuracy: 0.9591\n",
            "Epoch 31/100\n",
            "13/13 [==============================] - 0s 15ms/step - loss: 0.1678 - accuracy: 0.9698 - val_loss: 0.1535 - val_accuracy: 0.9591\n",
            "Epoch 32/100\n",
            "13/13 [==============================] - 0s 16ms/step - loss: 0.1646 - accuracy: 0.9698 - val_loss: 0.1506 - val_accuracy: 0.9649\n",
            "Epoch 33/100\n",
            "13/13 [==============================] - 0s 10ms/step - loss: 0.1617 - accuracy: 0.9698 - val_loss: 0.1478 - val_accuracy: 0.9649\n",
            "Epoch 34/100\n",
            "13/13 [==============================] - 0s 7ms/step - loss: 0.1588 - accuracy: 0.9698 - val_loss: 0.1452 - val_accuracy: 0.9708\n",
            "Epoch 35/100\n",
            "13/13 [==============================] - 0s 10ms/step - loss: 0.1562 - accuracy: 0.9698 - val_loss: 0.1427 - val_accuracy: 0.9708\n",
            "Epoch 36/100\n",
            "13/13 [==============================] - 0s 11ms/step - loss: 0.1537 - accuracy: 0.9724 - val_loss: 0.1403 - val_accuracy: 0.9708\n",
            "Epoch 37/100\n",
            "13/13 [==============================] - 0s 11ms/step - loss: 0.1512 - accuracy: 0.9749 - val_loss: 0.1380 - val_accuracy: 0.9708\n",
            "Epoch 38/100\n",
            "13/13 [==============================] - 0s 7ms/step - loss: 0.1490 - accuracy: 0.9749 - val_loss: 0.1358 - val_accuracy: 0.9708\n",
            "Epoch 39/100\n",
            "13/13 [==============================] - 0s 11ms/step - loss: 0.1468 - accuracy: 0.9749 - val_loss: 0.1338 - val_accuracy: 0.9708\n",
            "Epoch 40/100\n",
            "13/13 [==============================] - 0s 8ms/step - loss: 0.1447 - accuracy: 0.9749 - val_loss: 0.1318 - val_accuracy: 0.9708\n",
            "Epoch 41/100\n",
            "13/13 [==============================] - 0s 26ms/step - loss: 0.1427 - accuracy: 0.9749 - val_loss: 0.1299 - val_accuracy: 0.9708\n",
            "Epoch 42/100\n",
            "13/13 [==============================] - 0s 18ms/step - loss: 0.1408 - accuracy: 0.9749 - val_loss: 0.1280 - val_accuracy: 0.9766\n",
            "Epoch 43/100\n",
            "13/13 [==============================] - 0s 22ms/step - loss: 0.1390 - accuracy: 0.9749 - val_loss: 0.1262 - val_accuracy: 0.9766\n",
            "Epoch 44/100\n",
            "13/13 [==============================] - 0s 16ms/step - loss: 0.1372 - accuracy: 0.9749 - val_loss: 0.1246 - val_accuracy: 0.9825\n",
            "Epoch 45/100\n",
            "13/13 [==============================] - 0s 16ms/step - loss: 0.1356 - accuracy: 0.9749 - val_loss: 0.1230 - val_accuracy: 0.9825\n",
            "Epoch 46/100\n",
            "13/13 [==============================] - 0s 17ms/step - loss: 0.1340 - accuracy: 0.9749 - val_loss: 0.1214 - val_accuracy: 0.9883\n",
            "Epoch 47/100\n",
            "13/13 [==============================] - 0s 14ms/step - loss: 0.1325 - accuracy: 0.9749 - val_loss: 0.1199 - val_accuracy: 0.9883\n",
            "Epoch 48/100\n",
            "13/13 [==============================] - 0s 21ms/step - loss: 0.1310 - accuracy: 0.9749 - val_loss: 0.1184 - val_accuracy: 0.9883\n",
            "Epoch 49/100\n",
            "13/13 [==============================] - 0s 25ms/step - loss: 0.1296 - accuracy: 0.9749 - val_loss: 0.1170 - val_accuracy: 0.9883\n",
            "Epoch 50/100\n",
            "13/13 [==============================] - 0s 26ms/step - loss: 0.1283 - accuracy: 0.9749 - val_loss: 0.1156 - val_accuracy: 0.9883\n",
            "Epoch 51/100\n",
            "13/13 [==============================] - 0s 29ms/step - loss: 0.1270 - accuracy: 0.9749 - val_loss: 0.1143 - val_accuracy: 0.9883\n",
            "Epoch 52/100\n",
            "13/13 [==============================] - 0s 28ms/step - loss: 0.1257 - accuracy: 0.9749 - val_loss: 0.1130 - val_accuracy: 0.9883\n",
            "Epoch 53/100\n",
            "13/13 [==============================] - 0s 27ms/step - loss: 0.1245 - accuracy: 0.9749 - val_loss: 0.1117 - val_accuracy: 0.9883\n",
            "Epoch 54/100\n",
            "13/13 [==============================] - 0s 34ms/step - loss: 0.1233 - accuracy: 0.9749 - val_loss: 0.1105 - val_accuracy: 0.9883\n",
            "Epoch 55/100\n",
            "13/13 [==============================] - 0s 25ms/step - loss: 0.1222 - accuracy: 0.9749 - val_loss: 0.1092 - val_accuracy: 0.9883\n",
            "Epoch 56/100\n",
            "13/13 [==============================] - 0s 24ms/step - loss: 0.1211 - accuracy: 0.9749 - val_loss: 0.1081 - val_accuracy: 0.9883\n",
            "Epoch 57/100\n",
            "13/13 [==============================] - 0s 17ms/step - loss: 0.1200 - accuracy: 0.9749 - val_loss: 0.1070 - val_accuracy: 0.9883\n",
            "Epoch 58/100\n",
            "13/13 [==============================] - 0s 23ms/step - loss: 0.1190 - accuracy: 0.9749 - val_loss: 0.1059 - val_accuracy: 0.9883\n",
            "Epoch 59/100\n",
            "13/13 [==============================] - 0s 19ms/step - loss: 0.1180 - accuracy: 0.9749 - val_loss: 0.1048 - val_accuracy: 0.9883\n",
            "Epoch 60/100\n",
            "13/13 [==============================] - 0s 20ms/step - loss: 0.1171 - accuracy: 0.9749 - val_loss: 0.1038 - val_accuracy: 0.9883\n",
            "Epoch 61/100\n",
            "13/13 [==============================] - 0s 23ms/step - loss: 0.1161 - accuracy: 0.9749 - val_loss: 0.1029 - val_accuracy: 0.9883\n",
            "Epoch 62/100\n",
            "13/13 [==============================] - 0s 30ms/step - loss: 0.1153 - accuracy: 0.9749 - val_loss: 0.1018 - val_accuracy: 0.9883\n",
            "Epoch 63/100\n",
            "13/13 [==============================] - 0s 19ms/step - loss: 0.1144 - accuracy: 0.9724 - val_loss: 0.1009 - val_accuracy: 0.9883\n",
            "Epoch 64/100\n",
            "13/13 [==============================] - 0s 19ms/step - loss: 0.1136 - accuracy: 0.9724 - val_loss: 0.1000 - val_accuracy: 0.9883\n",
            "Epoch 65/100\n",
            "13/13 [==============================] - 0s 23ms/step - loss: 0.1128 - accuracy: 0.9724 - val_loss: 0.0991 - val_accuracy: 0.9883\n",
            "Epoch 66/100\n",
            "13/13 [==============================] - 0s 19ms/step - loss: 0.1120 - accuracy: 0.9724 - val_loss: 0.0982 - val_accuracy: 0.9883\n",
            "Epoch 67/100\n",
            "13/13 [==============================] - 0s 27ms/step - loss: 0.1112 - accuracy: 0.9749 - val_loss: 0.0974 - val_accuracy: 0.9883\n",
            "Epoch 68/100\n",
            "13/13 [==============================] - 0s 22ms/step - loss: 0.1105 - accuracy: 0.9749 - val_loss: 0.0966 - val_accuracy: 0.9883\n",
            "Epoch 69/100\n",
            "13/13 [==============================] - 0s 20ms/step - loss: 0.1098 - accuracy: 0.9749 - val_loss: 0.0958 - val_accuracy: 0.9883\n",
            "Epoch 70/100\n",
            "13/13 [==============================] - 0s 21ms/step - loss: 0.1091 - accuracy: 0.9749 - val_loss: 0.0951 - val_accuracy: 0.9883\n",
            "Epoch 71/100\n",
            "13/13 [==============================] - 0s 24ms/step - loss: 0.1084 - accuracy: 0.9749 - val_loss: 0.0943 - val_accuracy: 0.9883\n",
            "Epoch 72/100\n",
            "13/13 [==============================] - 0s 24ms/step - loss: 0.1077 - accuracy: 0.9749 - val_loss: 0.0936 - val_accuracy: 0.9883\n",
            "Epoch 73/100\n",
            "13/13 [==============================] - 0s 14ms/step - loss: 0.1071 - accuracy: 0.9749 - val_loss: 0.0928 - val_accuracy: 0.9883\n",
            "Epoch 74/100\n",
            "13/13 [==============================] - 0s 24ms/step - loss: 0.1064 - accuracy: 0.9749 - val_loss: 0.0921 - val_accuracy: 0.9883\n",
            "Epoch 75/100\n",
            "13/13 [==============================] - 0s 19ms/step - loss: 0.1058 - accuracy: 0.9774 - val_loss: 0.0914 - val_accuracy: 0.9883\n",
            "Epoch 76/100\n",
            "13/13 [==============================] - 0s 17ms/step - loss: 0.1052 - accuracy: 0.9799 - val_loss: 0.0906 - val_accuracy: 0.9883\n",
            "Epoch 77/100\n",
            "13/13 [==============================] - 0s 20ms/step - loss: 0.1046 - accuracy: 0.9799 - val_loss: 0.0900 - val_accuracy: 0.9883\n",
            "Epoch 78/100\n",
            "13/13 [==============================] - 0s 17ms/step - loss: 0.1040 - accuracy: 0.9799 - val_loss: 0.0894 - val_accuracy: 0.9883\n",
            "Epoch 79/100\n",
            "13/13 [==============================] - 0s 30ms/step - loss: 0.1034 - accuracy: 0.9799 - val_loss: 0.0887 - val_accuracy: 0.9883\n",
            "Epoch 80/100\n",
            "13/13 [==============================] - 0s 19ms/step - loss: 0.1028 - accuracy: 0.9799 - val_loss: 0.0880 - val_accuracy: 0.9883\n",
            "Epoch 81/100\n",
            "13/13 [==============================] - 0s 22ms/step - loss: 0.1023 - accuracy: 0.9799 - val_loss: 0.0873 - val_accuracy: 0.9883\n",
            "Epoch 82/100\n",
            "13/13 [==============================] - 0s 19ms/step - loss: 0.1017 - accuracy: 0.9799 - val_loss: 0.0867 - val_accuracy: 0.9883\n",
            "Epoch 83/100\n",
            "13/13 [==============================] - 0s 18ms/step - loss: 0.1012 - accuracy: 0.9799 - val_loss: 0.0861 - val_accuracy: 0.9883\n",
            "Epoch 84/100\n",
            "13/13 [==============================] - 0s 15ms/step - loss: 0.1007 - accuracy: 0.9799 - val_loss: 0.0855 - val_accuracy: 0.9883\n",
            "Epoch 85/100\n",
            "13/13 [==============================] - 0s 25ms/step - loss: 0.1002 - accuracy: 0.9799 - val_loss: 0.0849 - val_accuracy: 0.9883\n",
            "Epoch 86/100\n",
            "13/13 [==============================] - 0s 30ms/step - loss: 0.0997 - accuracy: 0.9799 - val_loss: 0.0843 - val_accuracy: 0.9883\n",
            "Epoch 87/100\n",
            "13/13 [==============================] - 0s 20ms/step - loss: 0.0992 - accuracy: 0.9799 - val_loss: 0.0838 - val_accuracy: 0.9883\n",
            "Epoch 88/100\n",
            "13/13 [==============================] - 0s 16ms/step - loss: 0.0987 - accuracy: 0.9799 - val_loss: 0.0833 - val_accuracy: 0.9883\n",
            "Epoch 89/100\n",
            "13/13 [==============================] - 0s 20ms/step - loss: 0.0983 - accuracy: 0.9799 - val_loss: 0.0827 - val_accuracy: 0.9883\n",
            "Epoch 90/100\n",
            "13/13 [==============================] - 0s 20ms/step - loss: 0.0979 - accuracy: 0.9799 - val_loss: 0.0822 - val_accuracy: 0.9883\n",
            "Epoch 91/100\n",
            "13/13 [==============================] - 0s 18ms/step - loss: 0.0974 - accuracy: 0.9799 - val_loss: 0.0817 - val_accuracy: 0.9883\n",
            "Epoch 92/100\n",
            "13/13 [==============================] - 0s 20ms/step - loss: 0.0970 - accuracy: 0.9799 - val_loss: 0.0812 - val_accuracy: 0.9883\n",
            "Epoch 93/100\n",
            "13/13 [==============================] - 0s 33ms/step - loss: 0.0966 - accuracy: 0.9799 - val_loss: 0.0807 - val_accuracy: 0.9883\n",
            "Epoch 94/100\n",
            "13/13 [==============================] - 0s 23ms/step - loss: 0.0962 - accuracy: 0.9799 - val_loss: 0.0802 - val_accuracy: 0.9883\n",
            "Epoch 95/100\n",
            "13/13 [==============================] - 1s 42ms/step - loss: 0.0957 - accuracy: 0.9799 - val_loss: 0.0798 - val_accuracy: 0.9883\n",
            "Epoch 96/100\n",
            "13/13 [==============================] - 1s 44ms/step - loss: 0.0953 - accuracy: 0.9799 - val_loss: 0.0793 - val_accuracy: 0.9883\n",
            "Epoch 97/100\n",
            "13/13 [==============================] - 1s 44ms/step - loss: 0.0950 - accuracy: 0.9799 - val_loss: 0.0789 - val_accuracy: 0.9883\n",
            "Epoch 98/100\n",
            "13/13 [==============================] - 1s 49ms/step - loss: 0.0945 - accuracy: 0.9799 - val_loss: 0.0784 - val_accuracy: 0.9883\n",
            "Epoch 99/100\n",
            "13/13 [==============================] - 1s 48ms/step - loss: 0.0941 - accuracy: 0.9799 - val_loss: 0.0780 - val_accuracy: 0.9883\n",
            "Epoch 100/100\n",
            "13/13 [==============================] - 0s 18ms/step - loss: 0.0937 - accuracy: 0.9799 - val_loss: 0.0776 - val_accuracy: 0.9883\n"
          ]
        }
      ]
    },
    {
      "cell_type": "code",
      "source": [
        "#evaluate the model\n",
        "loss, accuracy = model.evaluate(x_test, y_test) \n",
        "print(\"Loss: \", loss)\n",
        "print(\"Accuracy: \", accuracy)"
      ],
      "metadata": {
        "colab": {
          "base_uri": "https://localhost:8080/"
        },
        "id": "vXAVab5ZsYS9",
        "outputId": "4ea67fdd-ae1c-4cc0-fa02-00f15f9e47bf"
      },
      "execution_count": 11,
      "outputs": [
        {
          "output_type": "stream",
          "name": "stdout",
          "text": [
            "6/6 [==============================] - 0s 8ms/step - loss: 0.0776 - accuracy: 0.9883\n",
            "Loss:  0.07757051289081573\n",
            "Accuracy:  0.988304078578949\n"
          ]
        }
      ]
    },
    {
      "cell_type": "code",
      "source": [
        "# plot validation loss at each epoch\n",
        "plt.plot(res.history['val_loss'], label='validation loss')\n",
        "plt.legend()"
      ],
      "metadata": {
        "colab": {
          "base_uri": "https://localhost:8080/",
          "height": 283
        },
        "id": "ZJE7j6Pms-8V",
        "outputId": "b5748654-ee61-4c79-d0d7-3d297d7e7763"
      },
      "execution_count": 12,
      "outputs": [
        {
          "output_type": "execute_result",
          "data": {
            "text/plain": [
              "<matplotlib.legend.Legend at 0x7f7fb4eec2b0>"
            ]
          },
          "metadata": {},
          "execution_count": 12
        },
        {
          "output_type": "display_data",
          "data": {
            "text/plain": [
              "<Figure size 432x288 with 1 Axes>"
            ],
            "image/png": "[encoded data removed]"
          },
          "metadata": {
            "needs_background": "light"
          }
        }
      ]
    },
    {
      "cell_type": "code",
      "source": [
        "# plot accuracy at each epoch\n",
        "plt.plot(res.history['accuracy'], label='training accuracy')\n",
        "plt.plot(res.history['val_accuracy'], label='validation accuracy')\n",
        "plt.legend()"
      ],
      "metadata": {
        "colab": {
          "base_uri": "https://localhost:8080/",
          "height": 283
        },
        "id": "MazC0T3LuXMv",
        "outputId": "6ca6e85b-4db6-484a-dc79-cfdfe71e0e7e"
      },
      "execution_count": 13,
      "outputs": [
        {
          "output_type": "execute_result",
          "data": {
            "text/plain": [
              "<matplotlib.legend.Legend at 0x7f7fb4eec8e0>"
            ]
          },
          "metadata": {},
          "execution_count": 13
        },
        {
          "output_type": "display_data",
          "data": {
            "text/plain": [
              "<Figure size 432x288 with 1 Axes>"
            ],
            "image/png": "[encoded data removed]"
          },
          "metadata": {
            "needs_background": "light"
          }
        }
      ]
    }
  ]
}